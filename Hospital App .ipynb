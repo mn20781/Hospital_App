{
 "cells": [
  {
   "cell_type": "code",
   "execution_count": 2,
   "id": "13dd7781",
   "metadata": {
    "ExecuteTime": {
     "end_time": "2022-09-05T14:16:05.568785Z",
     "start_time": "2022-09-05T14:16:03.195412Z"
    }
   },
   "outputs": [],
   "source": [
    "%matplotlib inline"
   ]
  },
  {
   "cell_type": "code",
   "execution_count": 3,
   "id": "ed2024b1",
   "metadata": {
    "ExecuteTime": {
     "end_time": "2022-09-05T14:16:05.580176Z",
     "start_time": "2022-09-05T14:16:05.578306Z"
    }
   },
   "outputs": [],
   "source": [
    "#load dataframe with both sheets\n",
    "#df_0 = pd.read_excel('/Users/michaelnaylor/Downloads/PatientData_ProgrammingAssignment.xlsx', \n",
    "                  # true_values = None, keep_default_na = True, na_filter=False, \n",
    "                 #  verbose=True, header = 1\n",
    "                  # ,names=None, index_col=0, \n",
    "                 #  sheet_name = None, #sheet no in excel doc, none specifies all \n",
    "                 #  skiprows=2)\n",
    "#df_0"
   ]
  },
  {
   "cell_type": "code",
   "execution_count": 4,
   "id": "044f7cf7",
   "metadata": {
    "ExecuteTime": {
     "end_time": "2022-09-05T14:16:10.746328Z",
     "start_time": "2022-09-05T14:16:06.812612Z"
    }
   },
   "outputs": [
    {
     "name": "stderr",
     "output_type": "stream",
     "text": [
      "WARNING: pip is being invoked by an old script wrapper. This will fail in a future version of pip.\n",
      "Please see https://github.com/pypa/pip/issues/5599 for advice on fixing the underlying issue.\n",
      "To avoid this problem you can invoke Python with '-m pip' instead of running pip directly.\n"
     ]
    },
    {
     "data": {
      "text/html": [
       "<pre style=\"white-space:pre;overflow-x:auto;line-height:normal;font-family:Menlo,'DejaVu Sans Mono',consolas,'Courier New',monospace\">Requirement already satisfied: openpyxl in c:\\users\\micha\\anaconda3\\lib\\site-packages (3.0.10)\n",
       "</pre>\n"
      ],
      "text/plain": [
       "Requirement already satisfied: openpyxl in c:\\users\\micha\\anaconda3\\lib\\site-packages (3.0.10)\n"
      ]
     },
     "metadata": {},
     "output_type": "display_data"
    },
    {
     "data": {
      "text/html": [
       "<pre style=\"white-space:pre;overflow-x:auto;line-height:normal;font-family:Menlo,'DejaVu Sans Mono',consolas,'Courier New',monospace\">Requirement already satisfied: et_xmlfile in c:\\users\\micha\\anaconda3\\lib\\site-packages (from openpyxl) (1.1.0)\n",
       "</pre>\n"
      ],
      "text/plain": [
       "Requirement already satisfied: et_xmlfile in c:\\users\\micha\\anaconda3\\lib\\site-packages (from openpyxl) (1.1.0)\n"
      ]
     },
     "metadata": {},
     "output_type": "display_data"
    },
    {
     "data": {
      "text/plain": [
       "0"
      ]
     },
     "execution_count": 4,
     "metadata": {},
     "output_type": "execute_result"
    }
   ],
   "source": [
    "import pip\n",
    "pip.main([\"install\", \"openpyxl\"])"
   ]
  },
  {
   "cell_type": "code",
   "execution_count": 5,
   "id": "11fd1e65",
   "metadata": {
    "ExecuteTime": {
     "end_time": "2022-09-05T14:16:15.270794Z",
     "start_time": "2022-09-05T14:16:10.756773Z"
    }
   },
   "outputs": [
    {
     "data": {
      "text/html": [
       "<pre style=\"white-space:pre;overflow-x:auto;line-height:normal;font-family:Menlo,'DejaVu Sans Mono',consolas,'Courier New',monospace\">NumExpr defaulting to 8 threads.\n",
       "</pre>\n"
      ],
      "text/plain": [
       "NumExpr defaulting to 8 threads.\n"
      ]
     },
     "metadata": {},
     "output_type": "display_data"
    }
   ],
   "source": [
    "import pandas as pd\n",
    "import numpy as np "
   ]
  },
  {
   "cell_type": "code",
   "execution_count": 8,
   "id": "29e4a454",
   "metadata": {
    "ExecuteTime": {
     "end_time": "2022-09-05T14:17:13.165744Z",
     "start_time": "2022-09-05T14:17:12.471009Z"
    }
   },
   "outputs": [
    {
     "ename": "FileNotFoundError",
     "evalue": "[Errno 2] No such file or directory: '/Users/michaelnaylor/Downloads/PatientData_ProgrammingAssignment.xlsx'",
     "output_type": "error",
     "traceback": [
      "\u001b[1;31m---------------------------------------------------------------------------\u001b[0m",
      "\u001b[1;31mFileNotFoundError\u001b[0m                         Traceback (most recent call last)",
      "\u001b[1;32m~\\AppData\\Local\\Temp\\ipykernel_5156\\1749062241.py\u001b[0m in \u001b[0;36m<module>\u001b[1;34m\u001b[0m\n\u001b[0;32m      1\u001b[0m \u001b[1;31m#load multiple excelsheets using ExcelFile()\u001b[0m\u001b[1;33m\u001b[0m\u001b[1;33m\u001b[0m\u001b[0m\n\u001b[0;32m      2\u001b[0m \u001b[0mpd\u001b[0m\u001b[1;33m.\u001b[0m\u001b[0mset_option\u001b[0m\u001b[1;33m(\u001b[0m\u001b[1;34m'display.max_rows'\u001b[0m\u001b[1;33m,\u001b[0m \u001b[1;32mNone\u001b[0m\u001b[1;33m)\u001b[0m\u001b[1;33m\u001b[0m\u001b[1;33m\u001b[0m\u001b[0m\n\u001b[1;32m----> 3\u001b[1;33m \u001b[0mxlsx\u001b[0m \u001b[1;33m=\u001b[0m \u001b[0mpd\u001b[0m\u001b[1;33m.\u001b[0m\u001b[0mExcelFile\u001b[0m\u001b[1;33m(\u001b[0m\u001b[1;34m'/Users/michaelnaylor/Downloads/PatientData_ProgrammingAssignment.xlsx'\u001b[0m\u001b[1;33m)\u001b[0m\u001b[1;33m\u001b[0m\u001b[1;33m\u001b[0m\u001b[0m\n\u001b[0m\u001b[0;32m      4\u001b[0m \u001b[1;31m#load the first sheet\u001b[0m\u001b[1;33m\u001b[0m\u001b[1;33m\u001b[0m\u001b[0m\n\u001b[0;32m      5\u001b[0m df1 = pd.read_excel(xlsx, \"Sheet1\", true_values = None, keep_default_na = True, na_filter=False, #detect\n",
      "\u001b[1;32m~\\anaconda3\\lib\\site-packages\\pandas\\io\\excel\\_base.py\u001b[0m in \u001b[0;36m__init__\u001b[1;34m(self, path_or_buffer, engine, storage_options)\u001b[0m\n\u001b[0;32m   1374\u001b[0m                 \u001b[0mext\u001b[0m \u001b[1;33m=\u001b[0m \u001b[1;34m\"xls\"\u001b[0m\u001b[1;33m\u001b[0m\u001b[1;33m\u001b[0m\u001b[0m\n\u001b[0;32m   1375\u001b[0m             \u001b[1;32melse\u001b[0m\u001b[1;33m:\u001b[0m\u001b[1;33m\u001b[0m\u001b[1;33m\u001b[0m\u001b[0m\n\u001b[1;32m-> 1376\u001b[1;33m                 ext = inspect_excel_format(\n\u001b[0m\u001b[0;32m   1377\u001b[0m                     \u001b[0mcontent_or_path\u001b[0m\u001b[1;33m=\u001b[0m\u001b[0mpath_or_buffer\u001b[0m\u001b[1;33m,\u001b[0m \u001b[0mstorage_options\u001b[0m\u001b[1;33m=\u001b[0m\u001b[0mstorage_options\u001b[0m\u001b[1;33m\u001b[0m\u001b[1;33m\u001b[0m\u001b[0m\n\u001b[0;32m   1378\u001b[0m                 )\n",
      "\u001b[1;32m~\\anaconda3\\lib\\site-packages\\pandas\\io\\excel\\_base.py\u001b[0m in \u001b[0;36minspect_excel_format\u001b[1;34m(content_or_path, storage_options)\u001b[0m\n\u001b[0;32m   1248\u001b[0m         \u001b[0mcontent_or_path\u001b[0m \u001b[1;33m=\u001b[0m \u001b[0mBytesIO\u001b[0m\u001b[1;33m(\u001b[0m\u001b[0mcontent_or_path\u001b[0m\u001b[1;33m)\u001b[0m\u001b[1;33m\u001b[0m\u001b[1;33m\u001b[0m\u001b[0m\n\u001b[0;32m   1249\u001b[0m \u001b[1;33m\u001b[0m\u001b[0m\n\u001b[1;32m-> 1250\u001b[1;33m     with get_handle(\n\u001b[0m\u001b[0;32m   1251\u001b[0m         \u001b[0mcontent_or_path\u001b[0m\u001b[1;33m,\u001b[0m \u001b[1;34m\"rb\"\u001b[0m\u001b[1;33m,\u001b[0m \u001b[0mstorage_options\u001b[0m\u001b[1;33m=\u001b[0m\u001b[0mstorage_options\u001b[0m\u001b[1;33m,\u001b[0m \u001b[0mis_text\u001b[0m\u001b[1;33m=\u001b[0m\u001b[1;32mFalse\u001b[0m\u001b[1;33m\u001b[0m\u001b[1;33m\u001b[0m\u001b[0m\n\u001b[0;32m   1252\u001b[0m     ) as handle:\n",
      "\u001b[1;32m~\\anaconda3\\lib\\site-packages\\pandas\\io\\common.py\u001b[0m in \u001b[0;36mget_handle\u001b[1;34m(path_or_buf, mode, encoding, compression, memory_map, is_text, errors, storage_options)\u001b[0m\n\u001b[0;32m    793\u001b[0m         \u001b[1;32melse\u001b[0m\u001b[1;33m:\u001b[0m\u001b[1;33m\u001b[0m\u001b[1;33m\u001b[0m\u001b[0m\n\u001b[0;32m    794\u001b[0m             \u001b[1;31m# Binary mode\u001b[0m\u001b[1;33m\u001b[0m\u001b[1;33m\u001b[0m\u001b[0m\n\u001b[1;32m--> 795\u001b[1;33m             \u001b[0mhandle\u001b[0m \u001b[1;33m=\u001b[0m \u001b[0mopen\u001b[0m\u001b[1;33m(\u001b[0m\u001b[0mhandle\u001b[0m\u001b[1;33m,\u001b[0m \u001b[0mioargs\u001b[0m\u001b[1;33m.\u001b[0m\u001b[0mmode\u001b[0m\u001b[1;33m)\u001b[0m\u001b[1;33m\u001b[0m\u001b[1;33m\u001b[0m\u001b[0m\n\u001b[0m\u001b[0;32m    796\u001b[0m         \u001b[0mhandles\u001b[0m\u001b[1;33m.\u001b[0m\u001b[0mappend\u001b[0m\u001b[1;33m(\u001b[0m\u001b[0mhandle\u001b[0m\u001b[1;33m)\u001b[0m\u001b[1;33m\u001b[0m\u001b[1;33m\u001b[0m\u001b[0m\n\u001b[0;32m    797\u001b[0m \u001b[1;33m\u001b[0m\u001b[0m\n",
      "\u001b[1;31mFileNotFoundError\u001b[0m: [Errno 2] No such file or directory: '/Users/michaelnaylor/Downloads/PatientData_ProgrammingAssignment.xlsx'"
     ]
    }
   ],
   "source": [
    "#load multiple excelsheets using ExcelFile()\n",
    "pd.set_option('display.max_rows', None)\n",
    "xlsx = pd.ExcelFile('/Users/michaelnaylor/Downloads/PatientData_ProgrammingAssignment.xlsx')\n",
    "#load the first sheet\n",
    "df1 = pd.read_excel(xlsx, \"Sheet1\", true_values = None, keep_default_na = True, na_filter=False, #detect\n",
    "                   #missing values\n",
    "                   verbose=True, header = 1\n",
    "                   ,names=None, index_col=None, \n",
    "                    #sheet no in excel doc, none specifies all \n",
    "                   skiprows=2)\n",
    "#load the second sheet |\n",
    "df2 = pd.read_excel(xlsx, \"Sheet2\", true_values = None, keep_default_na = True, na_filter=False, \n",
    "                   verbose=True, header = 1\n",
    "                   ,names=None, index_col=None, \n",
    "                   #sheet_name = 1,\n",
    "                     skiprows=2)"
   ]
  },
  {
   "cell_type": "code",
   "execution_count": 7,
   "id": "f535cd86",
   "metadata": {
    "ExecuteTime": {
     "end_time": "2022-09-05T14:18:31.850133Z",
     "start_time": "2022-09-05T14:18:31.738060Z"
    }
   },
   "outputs": [
    {
     "ename": "NameError",
     "evalue": "name 'df' is not defined",
     "output_type": "error",
     "traceback": [
      "\u001b[1;31m---------------------------------------------------------------------------\u001b[0m",
      "\u001b[1;31mNameError\u001b[0m                                 Traceback (most recent call last)",
      "\u001b[1;32m~\\AppData\\Local\\Temp\\ipykernel_5156\\2143139289.py\u001b[0m in \u001b[0;36m<module>\u001b[1;34m\u001b[0m\n\u001b[1;32m----> 1\u001b[1;33m \u001b[0mdf\u001b[0m\u001b[1;33m.\u001b[0m\u001b[0minfo\u001b[0m\u001b[1;33m(\u001b[0m\u001b[1;33m)\u001b[0m \u001b[1;31m#check the dataframe\u001b[0m\u001b[1;33m\u001b[0m\u001b[1;33m\u001b[0m\u001b[0m\n\u001b[0m",
      "\u001b[1;31mNameError\u001b[0m: name 'df' is not defined"
     ]
    }
   ],
   "source": [
    "df.info() #check the dataframe"
   ]
  },
  {
   "cell_type": "code",
   "execution_count": null,
   "id": "bcc31464",
   "metadata": {
    "ExecuteTime": {
     "end_time": "2022-09-05T14:18:33.262075Z",
     "start_time": "2022-09-05T14:18:33.259263Z"
    }
   },
   "outputs": [],
   "source": [
    "#rename the columns using a dictionary \n",
    "col_map_df = {\n",
    "    \"Unnamed: 0\" : \"\",\n",
    "    \"Patient_ID\" : \"patient_id\",\n",
    "    \"ER_positive\" : \"er_positive\",\n",
    "    \"PR_positive\" : \"pr_positive\",\n",
    "    \"HER2_positive\" : \"her2_positive\",\n",
    "    \"Unnamed: 6\" : \"\",\n",
    "    \"Field Name\" : \"field_name\",\n",
    "    \"Description\" : \"description\"\n",
    "}"
   ]
  },
  {
   "cell_type": "code",
   "execution_count": null,
   "id": "c8b78983",
   "metadata": {
    "ExecuteTime": {
     "end_time": "2022-09-05T14:18:34.572984Z",
     "start_time": "2022-09-05T14:18:34.570369Z"
    }
   },
   "outputs": [],
   "source": [
    "#df.iloc[\"Patient_ID\"]"
   ]
  },
  {
   "cell_type": "code",
   "execution_count": null,
   "id": "3ca7e19b",
   "metadata": {
    "ExecuteTime": {
     "end_time": "2022-09-05T14:18:35.669399Z",
     "start_time": "2022-09-05T14:18:35.666518Z"
    }
   },
   "outputs": [],
   "source": [
    "patient_results = df.rename(columns=col_map_df) #rename the dataframes columns\n",
    "                                                #place in new variable"
   ]
  },
  {
   "cell_type": "code",
   "execution_count": null,
   "id": "a7ddf2e7",
   "metadata": {
    "ExecuteTime": {
     "end_time": "2022-09-05T14:18:37.677657Z",
     "start_time": "2022-09-05T14:18:37.674416Z"
    }
   },
   "outputs": [],
   "source": [
    "patient_results.columns #look up the columns of the dataframe"
   ]
  },
  {
   "cell_type": "code",
   "execution_count": null,
   "id": "9f744ade",
   "metadata": {
    "ExecuteTime": {
     "end_time": "2022-09-05T14:18:38.957712Z",
     "start_time": "2022-09-05T14:18:38.874190Z"
    }
   },
   "outputs": [],
   "source": [
    "patient_results.head(n=10) #check the first 10 results in patient_results"
   ]
  },
  {
   "cell_type": "code",
   "execution_count": null,
   "id": "4b8771bf",
   "metadata": {
    "ExecuteTime": {
     "end_time": "2022-09-05T14:18:40.902238Z",
     "start_time": "2022-09-05T14:18:40.873848Z"
    }
   },
   "outputs": [],
   "source": [
    "patient_results['description']"
   ]
  },
  {
   "cell_type": "code",
   "execution_count": null,
   "id": "e62dc7ef",
   "metadata": {
    "ExecuteTime": {
     "end_time": "2022-09-05T14:20:11.126289Z",
     "start_time": "2022-09-05T14:20:11.073295Z"
    }
   },
   "outputs": [],
   "source": [
    "patient_results.describe() #return the summary statistics and a few quartiles"
   ]
  },
  {
   "cell_type": "code",
   "execution_count": null,
   "id": "7db171ad",
   "metadata": {
    "ExecuteTime": {
     "end_time": "2022-09-05T14:20:42.221270Z",
     "start_time": "2022-09-05T14:20:42.216958Z"
    }
   },
   "outputs": [],
   "source": [
    "df.dtypes.value_counts()"
   ]
  },
  {
   "cell_type": "code",
   "execution_count": null,
   "id": "fe74b04e",
   "metadata": {
    "ExecuteTime": {
     "end_time": "2022-09-05T14:20:43.774100Z",
     "start_time": "2022-09-05T14:20:43.766892Z"
    }
   },
   "outputs": [],
   "source": [
    "df.info() #prints datatype information in addition to the count of non-null values\n",
    "          #also list amount of memory used by the dataframe"
   ]
  },
  {
   "cell_type": "code",
   "execution_count": null,
   "id": "be90f26c",
   "metadata": {
    "ExecuteTime": {
     "end_time": "2022-06-25T16:01:25.273828Z",
     "start_time": "2022-06-25T16:01:25.267779Z"
    }
   },
   "outputs": [],
   "source": [
    "df_1.info()"
   ]
  },
  {
   "cell_type": "code",
   "execution_count": null,
   "id": "39910949",
   "metadata": {
    "ExecuteTime": {
     "end_time": "2022-09-05T14:33:54.080415Z",
     "start_time": "2022-09-05T14:33:54.077856Z"
    }
   },
   "outputs": [],
   "source": [
    "#renaming columns for treatment information \n",
    "col_map = {\n",
    "    \"Unnamed: 0\" : \"\",\n",
    "    \"Patient_ID\" : \"patient_id\",\n",
    "    \"Drug_admin_date\" : \"drug_admin_date\",\n",
    "    \"Length\" : \"length\",\n",
    "    \"Field Name\" : \"field_name\",\n",
    "    \"Description\" : \"description\"\n",
    "    \n",
    "}"
   ]
  },
  {
   "cell_type": "code",
   "execution_count": null,
   "id": "39edadb2",
   "metadata": {
    "ExecuteTime": {
     "end_time": "2022-09-05T14:33:55.660380Z",
     "start_time": "2022-09-05T14:33:55.652430Z"
    }
   },
   "outputs": [],
   "source": [
    "patient_treatment = df_1.rename(columns=col_map) #rename ussing the rename function\n",
    "patient_treatment.head(n=15) #check the first 15 results"
   ]
  },
  {
   "cell_type": "code",
   "execution_count": null,
   "id": "0cfc3533",
   "metadata": {
    "ExecuteTime": {
     "end_time": "2022-09-05T01:25:47.640189Z",
     "start_time": "2022-09-05T01:25:47.637155Z"
    }
   },
   "outputs": [],
   "source": [
    "dates = patient_treatment[['patient_id', 'drug_admin_date']]"
   ]
  },
  {
   "cell_type": "code",
   "execution_count": null,
   "id": "220c7ea8",
   "metadata": {
    "ExecuteTime": {
     "end_time": "2022-09-05T01:25:48.784551Z",
     "start_time": "2022-09-05T01:25:48.777994Z"
    }
   },
   "outputs": [],
   "source": [
    "dates.head(n= 20)"
   ]
  },
  {
   "cell_type": "code",
   "execution_count": null,
   "id": "70c68c2e",
   "metadata": {
    "ExecuteTime": {
     "end_time": "2022-09-01T14:21:09.836773Z",
     "start_time": "2022-09-01T14:21:09.828061Z"
    }
   },
   "outputs": [],
   "source": [
    "dates.items"
   ]
  },
  {
   "cell_type": "code",
   "execution_count": null,
   "id": "83690d9f",
   "metadata": {
    "ExecuteTime": {
     "end_time": "2022-06-25T21:20:08.210664Z",
     "start_time": "2022-06-25T21:20:08.204493Z"
    }
   },
   "outputs": [],
   "source": [
    "patient_treatment.info() #check the info"
   ]
  },
  {
   "cell_type": "code",
   "execution_count": null,
   "id": "f9ad226e",
   "metadata": {
    "ExecuteTime": {
     "end_time": "2022-09-05T01:25:57.943438Z",
     "start_time": "2022-09-05T01:25:57.939768Z"
    }
   },
   "outputs": [],
   "source": [
    "patient_treatment[\"drug_admin_date\"].dtype #çheck the data type of the drug_admin_date column "
   ]
  },
  {
   "cell_type": "code",
   "execution_count": null,
   "id": "41a092fd",
   "metadata": {
    "ExecuteTime": {
     "end_time": "2022-09-05T14:34:22.240413Z",
     "start_time": "2022-09-05T14:34:22.236150Z"
    }
   },
   "outputs": [],
   "source": [
    "patient_treatment[\"patient_id\"].value_counts()"
   ]
  },
  {
   "cell_type": "code",
   "execution_count": null,
   "id": "ed641869",
   "metadata": {
    "ExecuteTime": {
     "end_time": "2022-06-25T21:02:28.357313Z",
     "start_time": "2022-06-25T21:02:28.353671Z"
    }
   },
   "outputs": [],
   "source": [
    "type(patient_treatment[\"patient_id\"]) #check what type of object patient_treatment['patient_id'] is"
   ]
  },
  {
   "cell_type": "code",
   "execution_count": null,
   "id": "0ea26313",
   "metadata": {
    "ExecuteTime": {
     "end_time": "2022-09-05T14:35:38.719160Z",
     "start_time": "2022-09-05T14:34:59.495952Z"
    }
   },
   "outputs": [],
   "source": [
    "### df_1[\"Drug_admin_date\"].dtype #check the dytpe of 'Drug_admin_date'\n",
    "#take user input and return patient information \n",
    "def cal_treatment(patient_id=0):\n",
    "    user_input = int(input('Enter Patient ID :',))\n",
    "    #when the user enters the patient id, the function should go through the database to \n",
    "    #find a similar value\n",
    "    p_id = patient_treatment['patient_id'] ==user_input \n",
    "    \n",
    "    if p_id.any():\n",
    "        patient_treatment['length'] = patient_treatment[\"drug_admin_date\"] - patient_treatment[\"drug_admin_date\"]\n",
    "        \n",
    "        print(patient_treatment.loc[p_id, ['patient_id', 'drug_admin_date', 'length']])\n",
    "    else:\n",
    "        print('nope')\n",
    "        cal_treatment()\n",
    "        \n",
    "    \n",
    "   # result = patient_treatment[\"drug_admin_date\"] - patient_treatment[\"drug_admin_date\"]\n",
    "    #if result > 0 :\n",
    "      #  return\n",
    "    #elif result <0:\n",
    "        \n",
    "      #  print(result, 'days of treatment')\n",
    "cal_treatment()"
   ]
  },
  {
   "cell_type": "code",
   "execution_count": null,
   "id": "7adb2e5a",
   "metadata": {
    "ExecuteTime": {
     "end_time": "2022-09-01T20:44:24.332417Z",
     "start_time": "2022-09-01T20:44:24.327499Z"
    }
   },
   "outputs": [],
   "source": [
    "df_1[\"Patient_ID\"].items#look through the items in the dataset"
   ]
  },
  {
   "cell_type": "code",
   "execution_count": null,
   "id": "b4f7710e",
   "metadata": {
    "ExecuteTime": {
     "end_time": "2022-06-17T14:37:23.732178Z",
     "start_time": "2022-06-17T14:37:23.723767Z"
    }
   },
   "outputs": [],
   "source": [
    "print(patient_treatment.iloc[0:10], patient_results.iloc[0:10]) \n",
    "#take first 10 results and display them from both dataframes "
   ]
  },
  {
   "cell_type": "code",
   "execution_count": null,
   "id": "8d33f791",
   "metadata": {
    "ExecuteTime": {
     "end_time": "2022-09-05T14:54:39.621700Z",
     "start_time": "2022-09-05T14:54:39.617503Z"
    }
   },
   "outputs": [],
   "source": [
    "print(patient_treatment.memory_usage()) #check the memory usage of the dataframe "
   ]
  },
  {
   "cell_type": "code",
   "execution_count": null,
   "id": "f70b4fd9",
   "metadata": {
    "ExecuteTime": {
     "end_time": "2022-06-25T21:19:23.357102Z",
     "start_time": "2022-06-25T21:19:23.353660Z"
    }
   },
   "outputs": [],
   "source": [
    "treatment_l = patient_treatment.copy()\n",
    "treatment_l.columns"
   ]
  },
  {
   "cell_type": "code",
   "execution_count": null,
   "id": "db75cfc2",
   "metadata": {
    "ExecuteTime": {
     "end_time": "2022-06-25T22:11:11.098944Z",
     "start_time": "2022-06-25T22:11:11.059843Z"
    }
   },
   "outputs": [],
   "source": [
    "treatment_l=patient_treatment.groupby(['patient_id','drug_admin_date'])['length'].sum()\n",
    "treatment_l.astype"
   ]
  },
  {
   "cell_type": "code",
   "execution_count": null,
   "id": "cacbfdc8",
   "metadata": {
    "ExecuteTime": {
     "end_time": "2022-06-17T14:49:22.421528Z",
     "start_time": "2022-06-17T14:49:22.418631Z"
    }
   },
   "outputs": [],
   "source": [
    "#data = df_1.sort_index()\n",
    "#data_copy = data.copy()"
   ]
  },
  {
   "cell_type": "code",
   "execution_count": null,
   "id": "775b78a2",
   "metadata": {
    "ExecuteTime": {
     "end_time": "2022-06-17T14:49:25.610085Z",
     "start_time": "2022-06-17T14:49:25.577847Z"
    }
   },
   "outputs": [],
   "source": [
    "patient_results"
   ]
  },
  {
   "cell_type": "code",
   "execution_count": null,
   "id": "5ac41cdb",
   "metadata": {
    "ExecuteTime": {
     "end_time": "2022-02-25T19:56:59.021197Z",
     "start_time": "2022-02-25T19:56:58.818271Z"
    }
   },
   "outputs": [],
   "source": [
    "#data_copy = data_copy.set_index(['Patient_ID'])\n",
    "\n",
    "#data_copy"
   ]
  },
  {
   "cell_type": "code",
   "execution_count": null,
   "id": "fb94306e",
   "metadata": {},
   "outputs": [],
   "source": [
    "patient_results[\"patient_id\"].value_counts()"
   ]
  },
  {
   "cell_type": "code",
   "execution_count": null,
   "id": "d136892b",
   "metadata": {
    "ExecuteTime": {
     "end_time": "2022-06-17T14:52:10.680624Z",
     "start_time": "2022-06-17T14:52:10.677577Z"
    }
   },
   "outputs": [],
   "source": [
    "data_copy[\"Length\"] = data_copy[\"Drug_admin_date\"] - data_copy[\"Drug_admin_date\"] #calculate\n",
    "#calculate treatment length "
   ]
  },
  {
   "cell_type": "code",
   "execution_count": null,
   "id": "0b57c0c6",
   "metadata": {
    "ExecuteTime": {
     "end_time": "2022-06-17T14:52:23.578973Z",
     "start_time": "2022-06-17T14:52:23.544138Z"
    }
   },
   "outputs": [],
   "source": [
    "data_copy"
   ]
  },
  {
   "cell_type": "code",
   "execution_count": null,
   "id": "00a94143",
   "metadata": {
    "ExecuteTime": {
     "end_time": "2022-06-25T21:03:24.800719Z",
     "start_time": "2022-06-25T21:03:24.789551Z"
    }
   },
   "outputs": [],
   "source": [
    "#building a multiindex from the column values\n",
    "patient_data = patient_treatment.set_index(['patient_id', 'drug_admin_date', 'length']) #indexing the columns \n",
    "patient_data.head()"
   ]
  },
  {
   "cell_type": "code",
   "execution_count": null,
   "id": "14a08c14",
   "metadata": {},
   "outputs": [],
   "source": []
  },
  {
   "cell_type": "code",
   "execution_count": null,
   "id": "3da4f2b6",
   "metadata": {
    "ExecuteTime": {
     "end_time": "2022-06-25T21:04:18.085928Z",
     "start_time": "2022-06-25T21:04:18.078668Z"
    }
   },
   "outputs": [],
   "source": [
    "patient_data.iloc[1:3]"
   ]
  },
  {
   "cell_type": "code",
   "execution_count": null,
   "id": "96230a0f",
   "metadata": {
    "ExecuteTime": {
     "end_time": "2022-06-17T22:17:58.074114Z",
     "start_time": "2022-06-17T22:17:58.067140Z"
    }
   },
   "outputs": [],
   "source": [
    "#†rying to see what setting patient ID as the lone index will do \n",
    "pdata=  data.set_index(['Patient_ID'])\n",
    "pdata.head()"
   ]
  },
  {
   "cell_type": "code",
   "execution_count": null,
   "id": "d212dd08",
   "metadata": {},
   "outputs": [],
   "source": [
    "#need to write a function to take in the patient id number \n",
    "#and check the next ids to see if they are similar if not,\n",
    "#then if it calculates the length of treatment from the 1st index with the id to the nth"
   ]
  },
  {
   "cell_type": "code",
   "execution_count": null,
   "id": "750f1ef5",
   "metadata": {
    "ExecuteTime": {
     "end_time": "2022-01-22T14:39:02.165141Z",
     "start_time": "2022-01-22T14:39:02.159473Z"
    }
   },
   "outputs": [],
   "source": [
    "pdd =  data.set_index(['Drug_admin_date'])\n",
    "pdd"
   ]
  },
  {
   "cell_type": "code",
   "execution_count": null,
   "id": "983b83ba",
   "metadata": {
    "ExecuteTime": {
     "end_time": "2022-01-22T14:39:08.739559Z",
     "start_time": "2022-01-22T14:39:08.733780Z"
    }
   },
   "outputs": [],
   "source": [
    "length = pdd.iloc[0:]"
   ]
  },
  {
   "cell_type": "code",
   "execution_count": null,
   "id": "5bdad294",
   "metadata": {
    "ExecuteTime": {
     "end_time": "2022-01-21T00:50:23.140461Z",
     "start_time": "2022-01-21T00:50:23.134727Z"
    }
   },
   "outputs": [],
   "source": [
    "pdata[\"Length\"]= pdata['Drug_admin_date'] - pdata['Drug_admin_date'].shift(1)\n",
    "pdata"
   ]
  },
  {
   "cell_type": "code",
   "execution_count": null,
   "id": "fcf80c3c",
   "metadata": {
    "ExecuteTime": {
     "end_time": "2022-01-21T00:50:05.137137Z",
     "start_time": "2022-01-21T00:50:04.972551Z"
    }
   },
   "outputs": [],
   "source": [
    "pdata.loc[2120]"
   ]
  },
  {
   "cell_type": "code",
   "execution_count": null,
   "id": "25be40ff",
   "metadata": {
    "ExecuteTime": {
     "end_time": "2022-01-17T20:36:04.311058Z",
     "start_time": "2022-01-17T20:36:04.308482Z"
    }
   },
   "outputs": [],
   "source": [
    "patient_data_copy = patient_data.copy()"
   ]
  },
  {
   "cell_type": "code",
   "execution_count": null,
   "id": "8417e82c",
   "metadata": {
    "ExecuteTime": {
     "end_time": "2022-01-17T21:43:27.523031Z",
     "start_time": "2022-01-17T21:43:27.519809Z"
    }
   },
   "outputs": [],
   "source": [
    "patient_data.loc[:,[2:]]"
   ]
  },
  {
   "cell_type": "code",
   "execution_count": null,
   "id": "2767eaba",
   "metadata": {
    "ExecuteTime": {
     "end_time": "2022-01-17T21:23:13.596073Z",
     "start_time": "2022-01-17T21:23:13.493108Z"
    }
   },
   "outputs": [],
   "source": [
    "idx = pd.IndexSlice \n",
    "df_1.loc[idx[:,\"Patient_ID\"], idx[:,'Drug_admin_date']]"
   ]
  },
  {
   "cell_type": "code",
   "execution_count": null,
   "id": "0eecf783",
   "metadata": {
    "ExecuteTime": {
     "end_time": "2022-01-17T18:52:40.561157Z",
     "start_time": "2022-01-17T18:52:40.540214Z"
    }
   },
   "outputs": [],
   "source": [
    "df_1.items"
   ]
  },
  {
   "cell_type": "code",
   "execution_count": null,
   "id": "41afa1e8",
   "metadata": {
    "ExecuteTime": {
     "end_time": "2022-01-17T03:03:47.480699Z",
     "start_time": "2022-01-17T03:03:47.473280Z"
    }
   },
   "outputs": [],
   "source": [
    "pizza = [n for n in df_1[\"Patient_ID\"]]\n",
    "pizza"
   ]
  },
  {
   "cell_type": "code",
   "execution_count": null,
   "id": "261540ac",
   "metadata": {
    "ExecuteTime": {
     "end_time": "2022-01-17T19:27:49.136088Z",
     "start_time": "2022-01-17T19:27:49.131774Z"
    }
   },
   "outputs": [],
   "source": [
    "type(pizza)"
   ]
  },
  {
   "cell_type": "code",
   "execution_count": null,
   "id": "2a9a6146",
   "metadata": {
    "ExecuteTime": {
     "end_time": "2022-01-12T11:09:04.233974Z",
     "start_time": "2022-01-12T11:09:04.218209Z"
    }
   },
   "outputs": [],
   "source": [
    "\n",
    "#df_1 = df_1.sort_values(by=\"Drug_admin_date\") "
   ]
  },
  {
   "cell_type": "code",
   "execution_count": null,
   "id": "f7f82b6d",
   "metadata": {
    "ExecuteTime": {
     "end_time": "2022-01-12T11:16:47.049667Z",
     "start_time": "2022-01-12T11:16:47.017161Z"
    }
   },
   "outputs": [],
   "source": [
    "df_1['Length'] = pd.to_datetime(df_1['Length'])"
   ]
  },
  {
   "cell_type": "code",
   "execution_count": null,
   "id": "81042857",
   "metadata": {
    "ExecuteTime": {
     "end_time": "2022-01-12T11:23:21.363031Z",
     "start_time": "2022-01-12T11:23:21.349626Z"
    }
   },
   "outputs": [],
   "source": [
    "#for n in df_1[\"Patient_ID\"]:\n",
    "  #  if n == df_1[\"Patient_ID\"]:\n",
    "   #     df_1[[\"Length\"]] = df_1[[\"Drug_admin_date\"]] - df_1[[\"Drug_admin_date\"]].shift(1)\n",
    "  #  else:\n",
    "   #     df_1[\"Length\"] = 0"
   ]
  },
  {
   "cell_type": "code",
   "execution_count": null,
   "id": "a7ecfab4",
   "metadata": {
    "ExecuteTime": {
     "end_time": "2022-01-12T21:23:52.313901Z",
     "start_time": "2022-01-12T21:23:52.251169Z"
    }
   },
   "outputs": [],
   "source": [
    "df_1[[\"Length\"]] = df_1[[\"Drug_admin_date\"]] - df_1[[\"Drug_admin_date\"]].shift(1)\n",
    "df_1"
   ]
  },
  {
   "cell_type": "code",
   "execution_count": null,
   "id": "5351d87c",
   "metadata": {},
   "outputs": [],
   "source": []
  },
  {
   "cell_type": "code",
   "execution_count": null,
   "id": "2418ce57",
   "metadata": {
    "ExecuteTime": {
     "end_time": "2022-01-17T04:00:57.228172Z",
     "start_time": "2022-01-17T04:00:57.196594Z"
    }
   },
   "outputs": [],
   "source": [
    "df_1[[\"Length\"]] = df_1.Drug_admin_date - df_1.Drug_admin_date.shift(1)\n",
    "#df_1[[\"Length\"]] = df_1.Drug_admin_date / np.timedelta64(1, 'W')\n",
    "df_1"
   ]
  },
  {
   "cell_type": "code",
   "execution_count": null,
   "id": "85ff8606",
   "metadata": {
    "ExecuteTime": {
     "end_time": "2022-01-12T21:23:59.607225Z",
     "start_time": "2022-01-12T21:23:59.599189Z"
    }
   },
   "outputs": [],
   "source": [
    "#df_1.loc[:,\"Length\" < pd.Timedelta(1,'D')] = 0\n",
    "df_1.loc[df_1[\"Length\"] < pd.Timedelta(1,'D')] = 0 "
   ]
  },
  {
   "cell_type": "code",
   "execution_count": null,
   "id": "e408ffc5",
   "metadata": {
    "ExecuteTime": {
     "end_time": "2022-01-12T21:24:07.140152Z",
     "start_time": "2022-01-12T21:24:07.080709Z"
    }
   },
   "outputs": [],
   "source": [
    "#df_1[\"Length\"][df_1[\"Length\"] < pd.Timedelta(1,'D')]\n",
    "df_1"
   ]
  },
  {
   "cell_type": "code",
   "execution_count": null,
   "id": "4a6bcf65",
   "metadata": {
    "ExecuteTime": {
     "end_time": "2022-01-12T21:26:02.855878Z",
     "start_time": "2022-01-12T21:26:02.847028Z"
    }
   },
   "outputs": [],
   "source": [
    "df_1.loc[2:9]"
   ]
  },
  {
   "cell_type": "code",
   "execution_count": null,
   "id": "16b1fc7c",
   "metadata": {
    "ExecuteTime": {
     "end_time": "2022-01-12T12:18:51.623552Z",
     "start_time": "2022-01-12T12:18:51.616360Z"
    }
   },
   "outputs": [],
   "source": [
    "df_1.loc[df_1[\"Length\"] <  pd.Timedelta(1,'D')] = 0\n"
   ]
  },
  {
   "cell_type": "code",
   "execution_count": null,
   "id": "14d41a66",
   "metadata": {
    "ExecuteTime": {
     "end_time": "2022-01-12T12:19:02.619423Z",
     "start_time": "2022-01-12T12:19:02.558406Z"
    }
   },
   "outputs": [],
   "source": [
    "df_1"
   ]
  },
  {
   "cell_type": "code",
   "execution_count": null,
   "id": "c2d7cc90",
   "metadata": {
    "ExecuteTime": {
     "end_time": "2022-01-12T12:19:07.094116Z",
     "start_time": "2022-01-12T12:19:07.073127Z"
    }
   },
   "outputs": [],
   "source": [
    "df_1[[\"Length\"]] = df_1[[\"Drug_admin_date\"]] - df_1[[\"Drug_admin_date\"]].shift(1)\n",
    "df_1"
   ]
  },
  {
   "cell_type": "code",
   "execution_count": null,
   "id": "b9c87b99",
   "metadata": {
    "ExecuteTime": {
     "end_time": "2022-01-11T23:17:20.411948Z",
     "start_time": "2022-01-11T23:17:20.408536Z"
    }
   },
   "outputs": [],
   "source": [
    "type(treatment_length)"
   ]
  },
  {
   "cell_type": "code",
   "execution_count": null,
   "id": "cde21113",
   "metadata": {
    "ExecuteTime": {
     "end_time": "2022-01-11T23:17:06.804278Z",
     "start_time": "2022-01-11T23:17:06.797571Z"
    }
   },
   "outputs": [],
   "source": [
    "for n in treatment_length:\n",
    "    if n < 0 :\n",
    "        treatment_length[n] == 0"
   ]
  },
  {
   "cell_type": "code",
   "execution_count": null,
   "id": "2c08b272",
   "metadata": {
    "ExecuteTime": {
     "end_time": "2022-01-11T23:03:56.270389Z",
     "start_time": "2022-01-11T23:03:56.261797Z"
    }
   },
   "outputs": [],
   "source": [
    "treatment_length = np.datetime64(drug_admin_date[:], 'W') - np.datetime64(drug_admin_date[:], 'W').shift[1]\n",
    "#print(\"Patient\",Patient_ID[0], \"had treatment for\",treatment_length, \"Weeks\")\n"
   ]
  },
  {
   "cell_type": "code",
   "execution_count": null,
   "id": "2da540b8",
   "metadata": {
    "ExecuteTime": {
     "end_time": "2022-01-09T00:02:16.575182Z",
     "start_time": "2022-01-09T00:02:16.571554Z"
    }
   },
   "outputs": [],
   "source": [
    "df['ER_positive'].dtype #check the data type of ER_positive column "
   ]
  },
  {
   "cell_type": "code",
   "execution_count": null,
   "id": "29c353f9",
   "metadata": {
    "ExecuteTime": {
     "end_time": "2022-01-17T03:05:40.900512Z",
     "start_time": "2022-01-17T03:05:40.888568Z"
    }
   },
   "outputs": [],
   "source": [
    "patients = df.groupby(['ER_positive']) #group ER patients in a container called patients\n",
    "#patients.size()\n",
    "#patients.first()\n",
    "#patients.reset_index()\n",
    "positive_ER = patients.get_group(1) #put the group of positive patients in the variable positive_ER\n",
    "positive"
   ]
  },
  {
   "cell_type": "code",
   "execution_count": null,
   "id": "d2fdfe09",
   "metadata": {
    "ExecuteTime": {
     "end_time": "2022-01-17T03:05:28.110591Z",
     "start_time": "2022-01-17T03:05:28.102598Z"
    }
   },
   "outputs": [],
   "source": [
    "pizza = [n for n in df_1[\"Patient_ID\"] if n == positive[\"Patient_ID\"]]\n",
    "pizza"
   ]
  },
  {
   "cell_type": "code",
   "execution_count": null,
   "id": "15ab2608",
   "metadata": {
    "ExecuteTime": {
     "end_time": "2022-01-17T03:05:28.534954Z",
     "start_time": "2022-01-17T03:05:28.374519Z"
    }
   },
   "outputs": [],
   "source": [
    "df_1"
   ]
  },
  {
   "cell_type": "code",
   "execution_count": null,
   "id": "1865f0e6",
   "metadata": {
    "ExecuteTime": {
     "end_time": "2022-01-17T03:06:55.536469Z",
     "start_time": "2022-01-17T03:06:55.529131Z"
    }
   },
   "outputs": [],
   "source": [
    "positive"
   ]
  },
  {
   "cell_type": "code",
   "execution_count": null,
   "id": "dd6f0f67",
   "metadata": {
    "ExecuteTime": {
     "end_time": "2022-01-12T22:14:41.216869Z",
     "start_time": "2022-01-12T22:14:41.211909Z"
    }
   },
   "outputs": [],
   "source": [
    "positive.columns"
   ]
  },
  {
   "cell_type": "code",
   "execution_count": null,
   "id": "b772f35d",
   "metadata": {
    "ExecuteTime": {
     "end_time": "2022-01-12T22:20:21.330355Z",
     "start_time": "2022-01-12T22:20:21.314795Z"
    }
   },
   "outputs": [],
   "source": [
    "positive[positive[\"Patient_ID\"].isin(df_1[\"Patient_ID\"])]"
   ]
  },
  {
   "cell_type": "code",
   "execution_count": null,
   "id": "547de780",
   "metadata": {
    "ExecuteTime": {
     "end_time": "2022-01-12T22:13:00.206157Z",
     "start_time": "2022-01-12T22:13:00.185217Z"
    }
   },
   "outputs": [],
   "source": [
    "\n",
    "#df_1[\"treatment_length\"] = \n",
    "treatment_length = df_1.loc[[\"Patient_ID\"] == positive.loc[\"Patient_ID\"]]\n",
    "print(df_1)"
   ]
  },
  {
   "cell_type": "code",
   "execution_count": null,
   "id": "23382838",
   "metadata": {
    "ExecuteTime": {
     "end_time": "2022-01-09T17:43:50.380669Z",
     "start_time": "2022-01-09T17:43:50.370901Z"
    }
   },
   "outputs": [],
   "source": [
    "for n in df:\n",
    "    if df[[\"Patient_ID\"]].iloc[n] == patients.iloc[n]:\n",
    "        print(df[[\"Patient_ID\"]])\n",
    "    "
   ]
  },
  {
   "cell_type": "code",
   "execution_count": null,
   "id": "3a6a9558",
   "metadata": {},
   "outputs": [],
   "source": [
    "import matplotlib.pyplot as plt\n",
    "plt.plot(epochs, loss, 'bo', label='Training loss')\n",
    "plt.plot(epochs, val_loss, 'b', label = 'Validation loss')\n",
    "plt.title('Training and Validation Loss')\n",
    "plt.xlabel('Epochs')\n",
    "plt.ylabel('Loss')\n",
    "plt.legend()\n",
    "\n",
    "plt.show()"
   ]
  },
  {
   "cell_type": "code",
   "execution_count": null,
   "id": "3753baf5",
   "metadata": {
    "ExecuteTime": {
     "end_time": "2022-01-05T02:59:23.635709Z",
     "start_time": "2022-01-05T02:59:23.632190Z"
    }
   },
   "outputs": [],
   "source": [
    "df_1.columns"
   ]
  },
  {
   "cell_type": "code",
   "execution_count": null,
   "id": "183e33d5",
   "metadata": {
    "ExecuteTime": {
     "end_time": "2022-01-17T17:29:04.038370Z",
     "start_time": "2022-01-17T17:29:04.033488Z"
    }
   },
   "outputs": [],
   "source": [
    "df_1.loc[50]"
   ]
  },
  {
   "cell_type": "code",
   "execution_count": null,
   "id": "c51f4e39",
   "metadata": {
    "ExecuteTime": {
     "end_time": "2022-01-17T17:28:54.579145Z",
     "start_time": "2022-01-17T17:28:54.570794Z"
    }
   },
   "outputs": [],
   "source": [
    "df1_index = pd.DataFrame(df_1, \n",
    "                        index=[[\"Patient_ID\"]], \n",
    "                        columns=([\"Patient_ID\", \"Drug_admin_date\"]))\n",
    "df1_index\n",
    "df1_index_copy = df1_index.copy()\n",
    "\n",
    "df1_index"
   ]
  },
  {
   "cell_type": "code",
   "execution_count": null,
   "id": "3e611331",
   "metadata": {
    "ExecuteTime": {
     "end_time": "2022-01-17T14:08:47.012052Z",
     "start_time": "2022-01-17T14:08:47.007838Z"
    }
   },
   "outputs": [],
   "source": [
    "df_1.columns"
   ]
  },
  {
   "cell_type": "code",
   "execution_count": null,
   "id": "12998885",
   "metadata": {
    "ExecuteTime": {
     "end_time": "2022-01-17T14:07:17.987718Z",
     "start_time": "2022-01-17T14:07:17.984622Z"
    }
   },
   "outputs": [],
   "source": [
    "type(df_1)"
   ]
  },
  {
   "cell_type": "code",
   "execution_count": null,
   "id": "92d60604",
   "metadata": {
    "ExecuteTime": {
     "end_time": "2022-01-17T14:11:01.662770Z",
     "start_time": "2022-01-17T14:11:01.659307Z"
    }
   },
   "outputs": [],
   "source": [
    "type(df1_index)"
   ]
  },
  {
   "cell_type": "code",
   "execution_count": null,
   "id": "ecf3a144",
   "metadata": {},
   "outputs": [],
   "source": [
    "import matplotlib.pyplot as plt\n",
    "plt.plot(epochs, loss, 'bo', label='Training loss')\n",
    "plt.plot(epochs, val_loss, 'b', label = 'Validation loss')\n",
    "plt.title('Training and Validation Loss')\n",
    "plt.xlabel('Epochs')\n",
    "plt.ylabel('Loss')\n",
    "plt.legend()\n",
    "\n",
    "plt.show()"
   ]
  },
  {
   "cell_type": "code",
   "execution_count": null,
   "id": "f7d57bc2",
   "metadata": {
    "ExecuteTime": {
     "end_time": "2022-01-07T01:59:13.215949Z",
     "start_time": "2022-01-07T01:59:13.195262Z"
    }
   },
   "outputs": [],
   "source": [
    "for i in df1_index.items():\n",
    "    if i  == df1_index:\n",
    "        print(i)"
   ]
  },
  {
   "cell_type": "code",
   "execution_count": null,
   "id": "2bceb991",
   "metadata": {
    "ExecuteTime": {
     "end_time": "2022-01-05T07:04:08.803508Z",
     "start_time": "2022-01-05T07:04:08.797410Z"
    }
   },
   "outputs": [],
   "source": [
    "row = next(df.iterrows())[1]\n",
    "row\n",
    "df1_index.keys"
   ]
  },
  {
   "cell_type": "code",
   "execution_count": null,
   "id": "c52cd939",
   "metadata": {
    "ExecuteTime": {
     "end_time": "2022-01-08T02:10:55.948638Z",
     "start_time": "2022-01-08T02:10:55.941570Z"
    }
   },
   "outputs": [],
   "source": [
    "index = pd.Index(df1_index, name = \"Patient_Info\")\n",
    "\n",
    "#deef =  pd.DataFrame(index, \n",
    "                      #  index=index,\n",
    "                     #   columns=([\"Patient_ID\", \"Drug_admin_date\"]))\n",
    "#deef\n",
    "index"
   ]
  },
  {
   "cell_type": "code",
   "execution_count": null,
   "id": "473bccca",
   "metadata": {
    "ExecuteTime": {
     "end_time": "2022-01-12T22:00:54.591755Z",
     "start_time": "2022-01-12T22:00:54.577852Z"
    }
   },
   "outputs": [],
   "source": [
    "idd_ =df_1.loc['Patient_ID'] == df['Patient_ID']"
   ]
  },
  {
   "cell_type": "code",
   "execution_count": null,
   "id": "1ec1364f",
   "metadata": {
    "ExecuteTime": {
     "end_time": "2022-01-05T03:18:32.415181Z",
     "start_time": "2022-01-05T03:18:32.410925Z"
    }
   },
   "outputs": [],
   "source": [
    "print(len(df))\n",
    "df.columns"
   ]
  },
  {
   "cell_type": "code",
   "execution_count": null,
   "id": "5850e464",
   "metadata": {
    "ExecuteTime": {
     "end_time": "2022-01-05T06:31:45.208249Z",
     "start_time": "2022-01-05T06:31:45.204013Z"
    }
   },
   "outputs": [],
   "source": [
    "#check the shape of the variable\n",
    "#df_index.shape\n",
    "\n",
    "\n"
   ]
  },
  {
   "cell_type": "code",
   "execution_count": null,
   "id": "8be87c67",
   "metadata": {
    "ExecuteTime": {
     "end_time": "2022-01-05T06:35:19.693864Z",
     "start_time": "2022-01-05T06:35:19.683459Z"
    }
   },
   "outputs": [],
   "source": [
    "#creating an index of the data frame that we can use to sort through the data using Pandas Dataframe function\n",
    "df_index = pd.DataFrame(df, \n",
    "                        index=range(0,37), \n",
    "                        columns=([\"Patient_ID\", \"drug_390_admin_flag\",\n",
    "                                  \"ER_positive\",\"PR_positive\", \"HER2_positive\"]))\n",
    "df_index\n",
    "#it needs to search row by row, at the coordinates to find the value and use that to search the coordinates of \n",
    "#next columns\n"
   ]
  },
  {
   "cell_type": "code",
   "execution_count": null,
   "id": "39d9f635",
   "metadata": {
    "ExecuteTime": {
     "end_time": "2022-01-08T04:48:55.836489Z",
     "start_time": "2022-01-08T04:48:55.828649Z"
    }
   },
   "outputs": [],
   "source": [
    "#df_index.query( \"drug_390_admin_flag\"and\"PR_positive\")\n",
    "#df_index[( df_index[\"ER_positive\"]< df_index[\"PR_positive\"])]\n",
    "#df_index[\"drug_390_admin_flag\"]\n",
    "#df_index[df_index[\"Patient_ID\"].isin([df_index[\"PR_positive\"]])]"
   ]
  },
  {
   "cell_type": "code",
   "execution_count": null,
   "id": "a80210db",
   "metadata": {
    "ExecuteTime": {
     "end_time": "2022-01-10T14:20:58.513209Z",
     "start_time": "2022-01-10T14:20:58.505425Z"
    }
   },
   "outputs": [],
   "source": [
    "df[[\"PR_positive\"]], df[[\"Patient_ID\"]]"
   ]
  },
  {
   "cell_type": "code",
   "execution_count": null,
   "id": "f1877c70",
   "metadata": {
    "ExecuteTime": {
     "end_time": "2022-01-10T14:17:15.922429Z",
     "start_time": "2022-01-10T14:17:15.909952Z"
    }
   },
   "outputs": [],
   "source": [
    "patients = df.groupby('PR_positive')\n",
    "#print(df.groupby(['Patient_ID']).groups)\n",
    "patients.head()"
   ]
  },
  {
   "cell_type": "code",
   "execution_count": null,
   "id": "f26663f7",
   "metadata": {},
   "outputs": [],
   "source": []
  },
  {
   "cell_type": "code",
   "execution_count": null,
   "id": "c34a56e8",
   "metadata": {},
   "outputs": [],
   "source": [
    "import matplotlib.pyplot as plt\n",
    "plt.plot(epochs, loss, 'bo', label='Training loss')\n",
    "plt.plot(epochs, val_loss, 'b', label = 'Validation loss')\n",
    "plt.title('Training and Validation Loss')\n",
    "plt.xlabel('Epochs')\n",
    "plt.ylabel('Loss')\n",
    "plt.legend()\n",
    "\n",
    "plt.show()"
   ]
  },
  {
   "cell_type": "code",
   "execution_count": null,
   "id": "96ba7bc3",
   "metadata": {
    "ExecuteTime": {
     "end_time": "2022-01-05T03:23:46.970250Z",
     "start_time": "2022-01-05T03:23:46.966339Z"
    }
   },
   "outputs": [],
   "source": [
    "#grab the index of the column \n",
    "#test example\n",
    "df_index.iloc[36]"
   ]
  },
  {
   "cell_type": "code",
   "execution_count": null,
   "id": "32a73cb9",
   "metadata": {},
   "outputs": [],
   "source": []
  },
  {
   "cell_type": "code",
   "execution_count": null,
   "id": "0d06375c",
   "metadata": {
    "ExecuteTime": {
     "end_time": "2022-01-10T14:27:16.405587Z",
     "start_time": "2022-01-10T14:27:16.398800Z"
    }
   },
   "outputs": [],
   "source": [
    "df_index.iloc[0:], df.columns.get_indexer(['Patient_ID', \n",
    "                                     \"PR_positive\", \"ER_positive\"])"
   ]
  },
  {
   "cell_type": "code",
   "execution_count": null,
   "id": "7dec5f33",
   "metadata": {
    "ExecuteTime": {
     "end_time": "2022-01-09T17:33:00.168411Z",
     "start_time": "2022-01-09T17:33:00.083648Z"
    }
   },
   "outputs": [],
   "source": [
    "df_index.iloc[0:], df.columns.get_indexer(['Patient_ID']) "
   ]
  },
  {
   "cell_type": "code",
   "execution_count": null,
   "id": "e000e613",
   "metadata": {
    "ExecuteTime": {
     "end_time": "2022-01-10T23:28:30.923557Z",
     "start_time": "2022-01-10T23:28:30.917100Z"
    }
   },
   "outputs": [],
   "source": [
    "df.loc[[1],[\"Patient_ID\"]]"
   ]
  },
  {
   "cell_type": "code",
   "execution_count": null,
   "id": "701c3637",
   "metadata": {
    "ExecuteTime": {
     "end_time": "2022-01-10T19:23:57.356761Z",
     "start_time": "2022-01-10T19:23:57.353552Z"
    }
   },
   "outputs": [],
   "source": [
    "positive_tests.columns"
   ]
  },
  {
   "cell_type": "code",
   "execution_count": null,
   "id": "279a4e2e",
   "metadata": {
    "ExecuteTime": {
     "end_time": "2022-01-12T22:24:36.658198Z",
     "start_time": "2022-01-12T22:24:36.654164Z"
    }
   },
   "outputs": [],
   "source": [
    "tests = positive_tests[positive_tests[\"Patient_ID\"].isin(df_1[\"Patient_ID\"])]"
   ]
  },
  {
   "cell_type": "code",
   "execution_count": null,
   "id": "05f5eccd",
   "metadata": {
    "ExecuteTime": {
     "end_time": "2022-01-12T22:36:19.142426Z",
     "start_time": "2022-01-12T22:36:19.138290Z"
    }
   },
   "outputs": [],
   "source": [
    "#positive_tests[\"Patient_ID\"].isin(df_1[\"Patient_ID\"])\n",
    "pos = positive_tests[\"Patient_ID\"].items\n",
    "pos"
   ]
  },
  {
   "cell_type": "code",
   "execution_count": null,
   "id": "011ecd2b",
   "metadata": {
    "ExecuteTime": {
     "end_time": "2022-01-12T22:29:59.710097Z",
     "start_time": "2022-01-12T22:29:59.704771Z"
    }
   },
   "outputs": [],
   "source": [
    "df_1[\"Positives\"] = positive_tests[\"Patient_ID\"] for n in positive_tests[\"Patient_ID\"]"
   ]
  },
  {
   "cell_type": "code",
   "execution_count": null,
   "id": "414b56c2",
   "metadata": {
    "ExecuteTime": {
     "end_time": "2022-01-12T22:32:08.922985Z",
     "start_time": "2022-01-12T22:32:08.852222Z"
    }
   },
   "outputs": [],
   "source": [
    "df_1"
   ]
  },
  {
   "cell_type": "code",
   "execution_count": null,
   "id": "35e127b8",
   "metadata": {
    "ExecuteTime": {
     "end_time": "2022-01-12T23:41:36.114689Z",
     "start_time": "2022-01-12T23:41:36.106450Z"
    }
   },
   "outputs": [],
   "source": [
    "#df_1[[\"Positives\"]]= df_1.loc[df_1[\"Patient_ID\"] & positive_tests[\"Patient_ID\"], \n",
    "                            #  df_1[\"Positive\"]] = 0\n",
    "posit=  positive_tests[\"Patient_ID\"]\n",
    "#select items in patient ID\n",
    "df_1.groupby([[\"Patient_ID\"], posit])"
   ]
  },
  {
   "cell_type": "code",
   "execution_count": null,
   "id": "e38671d7",
   "metadata": {
    "ExecuteTime": {
     "end_time": "2022-01-12T22:37:15.348616Z",
     "start_time": "2022-01-12T22:37:15.340990Z"
    }
   },
   "outputs": [],
   "source": [
    "#df_1[df_1['Patient_ID'] == positive_tests[['Patient_ID']].items]\n",
    "df_1['Patient_ID']"
   ]
  },
  {
   "cell_type": "code",
   "execution_count": null,
   "id": "7763ee10",
   "metadata": {
    "ExecuteTime": {
     "end_time": "2022-01-09T01:21:58.967342Z",
     "start_time": "2022-01-09T01:21:58.958968Z"
    }
   },
   "outputs": [],
   "source": [
    "df.iloc[[22], df.columns.get_indexer(['Patient_ID',  \n",
    "                                     \"PR_positive\", \"ER_positive\"])], df.iloc[[0], df.columns.get_indexer(['Patient_ID',  \n",
    "                                     \"PR_positive\", \"ER_positive\"])]"
   ]
  },
  {
   "cell_type": "code",
   "execution_count": null,
   "id": "7fe83b97",
   "metadata": {
    "ExecuteTime": {
     "end_time": "2022-01-05T06:41:08.955387Z",
     "start_time": "2022-01-05T06:41:08.946998Z"
    }
   },
   "outputs": [],
   "source": [
    "df.values"
   ]
  },
  {
   "cell_type": "code",
   "execution_count": null,
   "id": "a40e232e",
   "metadata": {
    "ExecuteTime": {
     "end_time": "2022-01-05T03:46:27.636446Z",
     "start_time": "2022-01-05T03:46:27.628799Z"
    }
   },
   "outputs": [],
   "source": [
    "#criterion = df['Patient_ID'].map(lambda x: x.startswith(1))\n",
    "positive_tests = {'drug_390_admin_flag': [1],\"PR_positive\":[1], \"ER_positive\":[1], \"HER2_positive\":[1] }\n",
    "#s= df.isin(positive_tests).any(1)\n",
    "df.query('a < b & b < c')"
   ]
  },
  {
   "cell_type": "code",
   "execution_count": null,
   "id": "faac7a92",
   "metadata": {
    "ExecuteTime": {
     "end_time": "2022-01-05T02:56:50.278045Z",
     "start_time": "2022-01-05T02:56:50.275815Z"
    },
    "scrolled": true
   },
   "outputs": [],
   "source": [
    "#data frame with data from the first sheet\n",
    "#df = pd.read_excel('/Users/michaelnaylor/Downloads/PatientData_ProgrammingAssignment.xlsx', \n",
    "                 #  true_values = None, keep_default_na = True, na_filter=False, \n",
    "                 #  verbose=True, header = 1\n",
    "                 #  ,names=None, index_col=None, \n",
    "                 #  sheet_name = 0, #sheet no in excel doc, \n",
    "                 #  skiprows=2)\n",
    "\n",
    "                  \n",
    "#df.head() #print the first 5 values to see if data has loaded properly \n",
    "#df.dropna() #drop the NaN values in the dataset \n",
    "#df.dropna(axis='columns')\n",
    "#df.head() #shows the first 5 elements\n",
    "#"
   ]
  },
  {
   "cell_type": "code",
   "execution_count": null,
   "id": "1e030fb6",
   "metadata": {
    "ExecuteTime": {
     "end_time": "2022-01-03T17:53:59.355409Z",
     "start_time": "2022-01-03T17:53:59.350932Z"
    }
   },
   "outputs": [],
   "source": [
    "#drug_data = df.values\n",
    "#drug_data"
   ]
  },
  {
   "cell_type": "code",
   "execution_count": null,
   "id": "95bd2464",
   "metadata": {
    "ExecuteTime": {
     "end_time": "2022-01-05T02:36:08.781528Z",
     "start_time": "2022-01-05T02:36:08.776170Z"
    }
   },
   "outputs": [],
   "source": [
    "df_Z = pd.DataFrame(\n",
    "                      index=list('012345'))#,\n",
    "                      #columns=list('Patient_ID','ER_positive'))\n",
    "df_Z"
   ]
  },
  {
   "cell_type": "code",
   "execution_count": null,
   "id": "16b8cf37",
   "metadata": {
    "ExecuteTime": {
     "end_time": "2022-01-04T21:00:05.145449Z",
     "start_time": "2022-01-04T21:00:05.142189Z"
    }
   },
   "outputs": [],
   "source": [
    "#drug_data[[\n",
    "type(df)"
   ]
  },
  {
   "cell_type": "code",
   "execution_count": null,
   "id": "f338d413",
   "metadata": {
    "ExecuteTime": {
     "end_time": "2022-01-05T00:13:11.470321Z",
     "start_time": "2022-01-05T00:13:11.198319Z"
    }
   },
   "outputs": [],
   "source": [
    "#df[[\"Patient_ID\"]]\n",
    "patient_ID = df[[\"Patient_ID\"]].values\n",
    "#print(df.columns) #show the column names \n",
    "#df.columns[2] #show the label of column in index 2\n",
    "print(len(patient_ID))\n",
    "print(patient_ID[36], patient_ID[4])\n",
    "\n",
    "#df[[\"Patient_ID\"]].head()\n",
    "hist = df[[\"drug_390_admin_flag\"]].hist(grid=True, bins=20)#creating a histogram to visualise the data \n",
    "hist = df[[\"ER_positive\"]].hist(grid=True, bins = 20)\n",
    "df[[\"ER_positive\"]]"
   ]
  },
  {
   "cell_type": "code",
   "execution_count": null,
   "id": "7fbf3087",
   "metadata": {
    "ExecuteTime": {
     "end_time": "2022-01-05T01:30:45.921471Z",
     "start_time": "2022-01-05T01:30:45.918342Z"
    }
   },
   "outputs": [],
   "source": [
    "for n in df[[\"ER_positive\"]]:\n",
    "    if n == 1:\n",
    "        print (n)"
   ]
  },
  {
   "cell_type": "code",
   "execution_count": null,
   "id": "3a99be21",
   "metadata": {
    "ExecuteTime": {
     "end_time": "2022-01-07T20:24:20.618315Z",
     "start_time": "2022-01-07T20:24:20.613820Z"
    }
   },
   "outputs": [],
   "source": [
    "drug_admin= df.loc[df[\"drug_390_admin_flag\"] >= 1]\n",
    "len(drug_admin)"
   ]
  },
  {
   "cell_type": "code",
   "execution_count": null,
   "id": "8fea9644",
   "metadata": {
    "ExecuteTime": {
     "end_time": "2022-01-17T03:08:53.520421Z",
     "start_time": "2022-01-17T03:08:53.487316Z"
    }
   },
   "outputs": [],
   "source": [
    "er_Positive = df.loc[df[\"ER_positive\"] >= 1] #print rows with column values 1 or greater\n",
    "len(er_Positive)"
   ]
  },
  {
   "cell_type": "code",
   "execution_count": null,
   "id": "82b76f19",
   "metadata": {
    "ExecuteTime": {
     "end_time": "2022-01-17T03:08:55.833819Z",
     "start_time": "2022-01-17T03:08:55.829810Z"
    }
   },
   "outputs": [],
   "source": [
    "pr_Positive =df.loc[df[\"PR_positive\"] >= 1]\n",
    "len(pr_Positive)"
   ]
  },
  {
   "cell_type": "code",
   "execution_count": null,
   "id": "5a945a27",
   "metadata": {
    "ExecuteTime": {
     "end_time": "2022-09-05T02:54:15.779090Z",
     "start_time": "2022-09-05T02:54:15.774143Z"
    }
   },
   "outputs": [],
   "source": [
    "df.count()"
   ]
  },
  {
   "cell_type": "code",
   "execution_count": null,
   "id": "e0fdf146",
   "metadata": {
    "ExecuteTime": {
     "end_time": "2022-01-08T15:45:56.347629Z",
     "start_time": "2022-01-08T15:45:56.343515Z"
    }
   },
   "outputs": [],
   "source": [
    "df_1[\"Patient_ID\"].count()"
   ]
  },
  {
   "cell_type": "code",
   "execution_count": null,
   "id": "4e0b201f",
   "metadata": {
    "ExecuteTime": {
     "end_time": "2022-01-10T04:57:25.536976Z",
     "start_time": "2022-01-10T04:57:25.532106Z"
    }
   },
   "outputs": [],
   "source": [
    "pr_Positive.to_numpy()"
   ]
  },
  {
   "cell_type": "code",
   "execution_count": null,
   "id": "381c9abc",
   "metadata": {
    "ExecuteTime": {
     "end_time": "2022-01-10T04:54:46.978797Z",
     "start_time": "2022-01-10T04:54:46.974556Z"
    }
   },
   "outputs": [],
   "source": [
    "pr_Positive[\"Patient_ID\"].isin(df_1[\"Patient_ID\"]) #check if the values in pr_positive are in df_1"
   ]
  },
  {
   "cell_type": "code",
   "execution_count": null,
   "id": "8a32c4d1",
   "metadata": {
    "ExecuteTime": {
     "end_time": "2022-01-10T04:44:11.877534Z",
     "start_time": "2022-01-10T04:44:11.870666Z"
    }
   },
   "outputs": [],
   "source": [
    "positive_IDs = pr_Positive.groupby('Patient_ID')\n",
    "for n, name in positive_IDs:\n",
    "    print(n)\n",
    "   # if n == df_1[[\"Patient_ID\"]]:\n",
    "      #  print(df_1[\"drug_admin_date\"])"
   ]
  },
  {
   "cell_type": "code",
   "execution_count": null,
   "id": "c987df23",
   "metadata": {
    "ExecuteTime": {
     "end_time": "2022-01-10T18:15:55.067659Z",
     "start_time": "2022-01-10T18:15:54.966531Z"
    }
   },
   "outputs": [],
   "source": [
    "positive_IDs.dtype"
   ]
  },
  {
   "cell_type": "code",
   "execution_count": null,
   "id": "7436212c",
   "metadata": {
    "ExecuteTime": {
     "end_time": "2022-01-10T14:29:04.277342Z",
     "start_time": "2022-01-10T14:29:04.268716Z"
    }
   },
   "outputs": [],
   "source": [
    "positive_tests"
   ]
  },
  {
   "cell_type": "code",
   "execution_count": null,
   "id": "909670c0",
   "metadata": {
    "ExecuteTime": {
     "end_time": "2022-01-07T20:23:17.468942Z",
     "start_time": "2022-01-07T20:23:17.464928Z"
    }
   },
   "outputs": [],
   "source": [
    "er_Negative = df.loc[df[\"ER_positive\"] == 0]\n",
    "len(er_Negative)"
   ]
  },
  {
   "cell_type": "code",
   "execution_count": null,
   "id": "713207f7",
   "metadata": {
    "ExecuteTime": {
     "end_time": "2022-01-07T20:25:18.991840Z",
     "start_time": "2022-01-07T20:25:18.987044Z"
    }
   },
   "outputs": [],
   "source": [
    "pr_Negative = df.loc[df[\"PR_positive\"] == 0]\n",
    "len(pr_Negative)"
   ]
  },
  {
   "cell_type": "code",
   "execution_count": null,
   "id": "bb776ec4",
   "metadata": {
    "ExecuteTime": {
     "end_time": "2022-01-10T14:29:57.249644Z",
     "start_time": "2022-01-10T14:29:57.246518Z"
    }
   },
   "outputs": [],
   "source": [
    "positive_tests = [pr_Positive, er_Positive] #creates a list\n",
    "len(positive_tests)"
   ]
  },
  {
   "cell_type": "code",
   "execution_count": null,
   "id": "58e9e50c",
   "metadata": {
    "ExecuteTime": {
     "end_time": "2022-01-10T14:34:51.693258Z",
     "start_time": "2022-01-10T14:34:51.689716Z"
    }
   },
   "outputs": [],
   "source": [
    "positive_tests.i\n"
   ]
  },
  {
   "cell_type": "code",
   "execution_count": null,
   "id": "e3cfb758",
   "metadata": {
    "ExecuteTime": {
     "end_time": "2022-01-17T03:09:11.492186Z",
     "start_time": "2022-01-17T03:09:11.488486Z"
    }
   },
   "outputs": [],
   "source": [
    "positive_tests = df.loc[(df[\"PR_positive\"] == 1) | (df[\"ER_positive\"] ==1)]"
   ]
  },
  {
   "cell_type": "code",
   "execution_count": null,
   "id": "c4c051ea",
   "metadata": {
    "ExecuteTime": {
     "end_time": "2022-01-17T03:09:14.907969Z",
     "start_time": "2022-01-17T03:09:14.893917Z"
    }
   },
   "outputs": [],
   "source": [
    "positive_tests"
   ]
  },
  {
   "cell_type": "code",
   "execution_count": null,
   "id": "a18602e0",
   "metadata": {
    "ExecuteTime": {
     "end_time": "2022-01-17T21:05:00.765229Z",
     "start_time": "2022-01-17T21:05:00.762211Z"
    }
   },
   "outputs": [],
   "source": [
    "patient_data_copy.loc[, Drug_admin_date]- patient_data_copy.loc[, :].shift(1)"
   ]
  },
  {
   "cell_type": "code",
   "execution_count": null,
   "id": "508f56df",
   "metadata": {
    "ExecuteTime": {
     "end_time": "2022-01-17T21:10:01.002256Z",
     "start_time": "2022-01-17T21:10:00.995049Z"
    }
   },
   "outputs": [],
   "source": [
    "patient_data_copy.xs(level='Patient_ID')"
   ]
  },
  {
   "cell_type": "code",
   "execution_count": null,
   "id": "79e64302",
   "metadata": {
    "ExecuteTime": {
     "end_time": "2022-01-17T21:22:21.982708Z",
     "start_time": "2022-01-17T21:22:21.929076Z"
    }
   },
   "outputs": [],
   "source": [
    "patient_data_copy.iloc[1:,]"
   ]
  },
  {
   "cell_type": "code",
   "execution_count": null,
   "id": "2550032a",
   "metadata": {
    "ExecuteTime": {
     "end_time": "2022-01-17T20:49:04.064138Z",
     "start_time": "2022-01-17T20:49:04.060377Z"
    }
   },
   "outputs": [],
   "source": [
    "pizza = [n for n in positive_tests[\"Patient_ID\"] for y in df_1[\"Patient_ID\"]if n == y]\n",
    "print(len(pizza), pizza)"
   ]
  },
  {
   "cell_type": "code",
   "execution_count": null,
   "id": "d76cb923",
   "metadata": {
    "ExecuteTime": {
     "end_time": "2022-01-17T04:06:09.059240Z",
     "start_time": "2022-01-17T04:06:08.999815Z"
    }
   },
   "outputs": [],
   "source": [
    "df_1copy = df_1.copy()\n",
    "df_1copy"
   ]
  },
  {
   "cell_type": "code",
   "execution_count": null,
   "id": "18b19b0a",
   "metadata": {},
   "outputs": [],
   "source": [
    "df_1[\"Positives\"] = positive_tests[\"Patient_ID\"] for n in positive_tests[\"Patient_ID\"]"
   ]
  },
  {
   "cell_type": "code",
   "execution_count": null,
   "id": "0b8f211f",
   "metadata": {
    "ExecuteTime": {
     "end_time": "2022-01-17T04:10:40.727192Z",
     "start_time": "2022-01-17T04:10:40.724067Z"
    }
   },
   "outputs": [],
   "source": [
    "df_1copy[\"length\"] = #[df_1['Patient_ID'].duplicated() == True for n in positive_tests[\"Patient_ID\"] \n",
    "                      for y in df_1[\"Patient_ID\"]if n == y]= df_1[[\"Drug_admin_date\"]] - df_1[[\"Drug_admin_date\"]].shift(1)"
   ]
  },
  {
   "cell_type": "code",
   "execution_count": null,
   "id": "9cc35c47",
   "metadata": {
    "ExecuteTime": {
     "end_time": "2022-01-17T04:19:32.508018Z",
     "start_time": "2022-01-17T04:19:32.495322Z"
    }
   },
   "outputs": [],
   "source": [
    "df_1copy[\"length\"] = ['Positive'\n",
    "                      for n in positive_tests[\"Patient_ID\"]\n",
    "                      for y in df_1[\"Patient_ID\"]\n",
    "                      if n == y]#df_1[[\"Drug_admin_date\"]] - df_1[[\"Drug_admin_date\"]].shift(1)"
   ]
  },
  {
   "cell_type": "code",
   "execution_count": null,
   "id": "ae09a0f4",
   "metadata": {
    "ExecuteTime": {
     "end_time": "2022-01-17T03:45:32.482428Z",
     "start_time": "2022-01-17T03:45:32.423653Z"
    }
   },
   "outputs": [],
   "source": []
  },
  {
   "cell_type": "code",
   "execution_count": null,
   "id": "94b8e07b",
   "metadata": {
    "ExecuteTime": {
     "end_time": "2022-01-17T03:28:18.743741Z",
     "start_time": "2022-01-17T03:28:18.739386Z"
    }
   },
   "outputs": [],
   "source": [
    "df_1[\"Patient_ID\"].value_counts()"
   ]
  },
  {
   "cell_type": "code",
   "execution_count": null,
   "id": "909629cc",
   "metadata": {
    "ExecuteTime": {
     "end_time": "2022-01-17T03:28:56.892363Z",
     "start_time": "2022-01-17T03:28:56.889227Z"
    }
   },
   "outputs": [],
   "source": [
    "len(df_1[\"Patient_ID\"])"
   ]
  },
  {
   "cell_type": "code",
   "execution_count": null,
   "id": "1b31516f",
   "metadata": {
    "ExecuteTime": {
     "end_time": "2022-01-17T03:33:09.394261Z",
     "start_time": "2022-01-17T03:33:09.383892Z"
    }
   },
   "outputs": [],
   "source": [
    "df_1.loc[df_1[\"Patient_ID\"] == 9489]"
   ]
  },
  {
   "cell_type": "code",
   "execution_count": null,
   "id": "1103349d",
   "metadata": {
    "ExecuteTime": {
     "end_time": "2022-01-17T03:23:42.482231Z",
     "start_time": "2022-01-17T03:23:42.471191Z"
    }
   },
   "outputs": [],
   "source": [
    "df_1[\"Positive\"] = [n for n in positive_tests[\"Patient_ID\"] for y in df_1[\"Patient_ID\"]if n == y]"
   ]
  },
  {
   "cell_type": "code",
   "execution_count": null,
   "id": "85351fae",
   "metadata": {
    "ExecuteTime": {
     "end_time": "2022-01-12T00:02:38.771141Z",
     "start_time": "2022-01-12T00:02:38.767116Z"
    }
   },
   "outputs": [],
   "source": [
    "positive_tests.columns"
   ]
  },
  {
   "cell_type": "code",
   "execution_count": null,
   "id": "212caa88",
   "metadata": {
    "ExecuteTime": {
     "end_time": "2022-01-10T05:05:49.850186Z",
     "start_time": "2022-01-10T05:05:49.845633Z"
    }
   },
   "outputs": [],
   "source": [
    "pr_Negative[\"Patient_ID\"].isin(df_1[\"Patient_ID\"])"
   ]
  },
  {
   "cell_type": "code",
   "execution_count": null,
   "id": "2c535a97",
   "metadata": {
    "ExecuteTime": {
     "end_time": "2022-01-08T04:53:05.669776Z",
     "start_time": "2022-01-08T04:53:05.664385Z"
    }
   },
   "outputs": [],
   "source": [
    "negative_tests = df.loc[(df[\"PR_positive\"] == 0) & (df[\"ER_positive\"] ==0)]"
   ]
  },
  {
   "cell_type": "code",
   "execution_count": null,
   "id": "7c613ebc",
   "metadata": {
    "ExecuteTime": {
     "end_time": "2022-01-08T23:08:30.809094Z",
     "start_time": "2022-01-08T23:08:30.804358Z"
    }
   },
   "outputs": [],
   "source": [
    "#positive_tests.values\n",
    "df['Patient_ID'].values"
   ]
  },
  {
   "cell_type": "code",
   "execution_count": null,
   "id": "ad1463e3",
   "metadata": {
    "ExecuteTime": {
     "end_time": "2022-01-12T00:15:59.751895Z",
     "start_time": "2022-01-12T00:15:59.748279Z"
    }
   },
   "outputs": [],
   "source": [
    "len(df)-len(positive_tests) "
   ]
  },
  {
   "cell_type": "code",
   "execution_count": null,
   "id": "cb1d0293",
   "metadata": {
    "ExecuteTime": {
     "end_time": "2022-01-12T00:14:16.721024Z",
     "start_time": "2022-01-12T00:14:16.716097Z"
    }
   },
   "outputs": [],
   "source": [
    "#loop through the patients with positive tests\n",
    "for n in positive_tests[\"Patient_ID\"]:\n",
    "   # for ide in df_1[['Patient_ID']]:\n",
    "       # while df[n] == df_1[ide]:\n",
    "            print(\"Patient_ID:\",n)\n",
    "print(\"There are:\", len(positive_tests), \"positive tests\")"
   ]
  },
  {
   "cell_type": "code",
   "execution_count": null,
   "id": "319de1b9",
   "metadata": {
    "ExecuteTime": {
     "end_time": "2022-01-12T00:10:44.970399Z",
     "start_time": "2022-01-12T00:10:44.967030Z"
    }
   },
   "outputs": [],
   "source": [
    "#create class to sort patient information  \n",
    "class Patient_Info:\n",
    "    def __init__(self, patient_ID, diagnosis, treatment_length):\n",
    "        self.patient_ID = patient_ID\n",
    "        self.diagnosis = diagnosis\n",
    "        self.treatment_length = treatment_length"
   ]
  },
  {
   "cell_type": "code",
   "execution_count": null,
   "id": "daa76fbc",
   "metadata": {
    "ExecuteTime": {
     "end_time": "2022-01-10T18:17:49.125325Z",
     "start_time": "2022-01-10T18:17:49.118529Z"
    }
   },
   "outputs": [],
   "source": []
  },
  {
   "cell_type": "code",
   "execution_count": null,
   "id": "51906d47",
   "metadata": {
    "ExecuteTime": {
     "end_time": "2022-01-08T04:53:20.312942Z",
     "start_time": "2022-01-08T04:53:20.303278Z"
    }
   },
   "outputs": [],
   "source": [
    "negative_tests"
   ]
  },
  {
   "cell_type": "code",
   "execution_count": null,
   "id": "9dc606d7",
   "metadata": {
    "ExecuteTime": {
     "end_time": "2022-01-08T05:03:07.381315Z",
     "start_time": "2022-01-08T05:03:07.377652Z"
    }
   },
   "outputs": [],
   "source": [
    "grp1 = negative_tests.groupby('Patient_ID')\n",
    "for n, name in grp1:\n",
    "    print(n)\n",
    "   # print(name)\n",
    "\n",
    "   # print()"
   ]
  },
  {
   "cell_type": "code",
   "execution_count": null,
   "id": "07d40faf",
   "metadata": {
    "ExecuteTime": {
     "end_time": "2022-01-08T04:50:19.743162Z",
     "start_time": "2022-01-08T04:50:19.736722Z"
    }
   },
   "outputs": [],
   "source": [
    "positive_tests_0 = df.loc[df[\"Patient_ID\"].isin(positive_tests)]\n",
    "positive_tests_0"
   ]
  },
  {
   "cell_type": "code",
   "execution_count": null,
   "id": "7a3e7507",
   "metadata": {
    "ExecuteTime": {
     "end_time": "2022-01-08T04:50:45.835919Z",
     "start_time": "2022-01-08T04:50:45.817059Z"
    }
   },
   "outputs": [],
   "source": [
    "df.loc[:\"Patient_ID\"]"
   ]
  },
  {
   "cell_type": "code",
   "execution_count": null,
   "id": "0346f97b",
   "metadata": {
    "ExecuteTime": {
     "end_time": "2022-01-08T16:34:46.214411Z",
     "start_time": "2022-01-08T16:34:46.194804Z"
    }
   },
   "outputs": [],
   "source": [
    "#creating a function to loop through the values of df[\"Patient_ID\"]\n",
    "#def treatment_length():\n",
    "for n in df[\"Patient_ID\"].values:\n",
    "    for num in range(len(positive_tests)):\n",
    "        if positive_tests[num] == positive_tests:\n",
    "            print(positive_tests[num])\n",
    "            Q\n",
    "        \n",
    "                "
   ]
  },
  {
   "cell_type": "code",
   "execution_count": null,
   "id": "97c3fa6a",
   "metadata": {
    "ExecuteTime": {
     "end_time": "2022-01-08T16:28:24.046897Z",
     "start_time": "2022-01-08T16:28:24.037161Z"
    }
   },
   "outputs": [],
   "source": [
    "positive_tests"
   ]
  },
  {
   "cell_type": "code",
   "execution_count": null,
   "id": "2137a5cc",
   "metadata": {
    "ExecuteTime": {
     "end_time": "2022-01-07T20:39:33.412361Z",
     "start_time": "2022-01-07T20:39:33.401164Z"
    }
   },
   "outputs": [],
   "source": [
    "positive_tests[0]"
   ]
  },
  {
   "cell_type": "code",
   "execution_count": null,
   "id": "8d618a9b",
   "metadata": {
    "ExecuteTime": {
     "end_time": "2022-01-07T20:47:43.826811Z",
     "start_time": "2022-01-07T20:47:43.814054Z"
    }
   },
   "outputs": [],
   "source": [
    "df.loc[[\"Patient_ID\"]]"
   ]
  },
  {
   "cell_type": "code",
   "execution_count": null,
   "id": "e103f6f0",
   "metadata": {
    "ExecuteTime": {
     "end_time": "2022-01-07T20:37:34.035599Z",
     "start_time": "2022-01-07T20:37:34.031660Z"
    }
   },
   "outputs": [],
   "source": [
    "total_positives = len(positive_tests[0]) + len(positive_tests[1])\n",
    "total_positives"
   ]
  },
  {
   "cell_type": "code",
   "execution_count": null,
   "id": "15286a78",
   "metadata": {
    "ExecuteTime": {
     "end_time": "2022-01-04T20:44:55.234561Z",
     "start_time": "2022-01-04T20:44:55.230727Z"
    }
   },
   "outputs": [],
   "source": [
    "#need to create a class that allows you to store the patient ID values as the value to be called. \n",
    "#The function should give you the ability to search for an ID by imputting a list of values\n",
    "#further consideration should be kept for interaction, in the UI such as a searchbar that attempts to predict\n",
    "#the number that will be entered. The function can only accept INTs that are 4 numbers long. \n",
    "type(df[['Patient_ID']])"
   ]
  },
  {
   "cell_type": "code",
   "execution_count": null,
   "id": "2f38782a",
   "metadata": {
    "ExecuteTime": {
     "end_time": "2022-01-03T02:56:30.163057Z",
     "start_time": "2022-01-03T02:56:30.130925Z"
    }
   },
   "outputs": [],
   "source": [
    "df_1 = pd.read_excel('/Users/michaelnaylor/Downloads/PatientData_ProgrammingAssignment.xlsx', \n",
    "                   true_values = None, keep_default_na = True, na_filter=False, \n",
    "                   verbose=True, header = 1\n",
    "                   ,names=None, index_col=None, \n",
    "                   sheet_name = 1, skiprows=2)\n",
    "df_1.head()"
   ]
  },
  {
   "cell_type": "code",
   "execution_count": null,
   "id": "ec1b3398",
   "metadata": {
    "ExecuteTime": {
     "end_time": "2022-01-03T03:27:46.341090Z",
     "start_time": "2022-01-03T03:27:46.332737Z"
    }
   },
   "outputs": [],
   "source": [
    "df_1[['Drug_admin_date']], df_1[['Patient_ID']]"
   ]
  },
  {
   "cell_type": "code",
   "execution_count": null,
   "id": "4b7995f9",
   "metadata": {
    "ExecuteTime": {
     "end_time": "2022-01-17T14:02:03.922581Z",
     "start_time": "2022-01-17T14:02:03.863624Z"
    }
   },
   "outputs": [],
   "source": [
    "\n",
    "df_1copy"
   ]
  },
  {
   "cell_type": "code",
   "execution_count": null,
   "id": "e0f0ce83",
   "metadata": {
    "ExecuteTime": {
     "end_time": "2022-01-17T14:02:04.786900Z",
     "start_time": "2022-01-17T14:02:04.777988Z"
    }
   },
   "outputs": [],
   "source": [
    "features = [\"Patient_ID\", \"Drug_admin_date\"]\n",
    "print(df_1[features])"
   ]
  },
  {
   "cell_type": "code",
   "execution_count": null,
   "id": "3b6348a8",
   "metadata": {},
   "outputs": [],
   "source": [
    "#for ID in features:"
   ]
  },
  {
   "cell_type": "code",
   "execution_count": null,
   "id": "b88476c6",
   "metadata": {},
   "outputs": [],
   "source": [
    "#function to calculate the length of a patients treatment\n",
    "\n",
    "#def treatmenttime():\n",
    "    \n",
    "    "
   ]
  },
  {
   "cell_type": "code",
   "execution_count": null,
   "id": "8fcde572",
   "metadata": {
    "ExecuteTime": {
     "end_time": "2022-01-03T16:33:51.552404Z",
     "start_time": "2022-01-03T16:33:51.539606Z"
    }
   },
   "outputs": [],
   "source": [
    "df['drug_390_admin_flag'].values\n",
    "print(\"Column Name:\",df.columns[2],\"\\nValues:\",df['drug_390_admin_flag'].values,\n",
    "      \"\\nNo. of Values:\",len(df['drug_390_admin_flag'])\n",
    "      ,\"\\nMean:\", sum(df[\"drug_390_admin_flag\"])/len(df[\"drug_390_admin_flag\"]))"
   ]
  },
  {
   "cell_type": "code",
   "execution_count": null,
   "id": "7dfb8764",
   "metadata": {},
   "outputs": [],
   "source": [
    "df"
   ]
  },
  {
   "cell_type": "code",
   "execution_count": null,
   "id": "0bc60351",
   "metadata": {
    "ExecuteTime": {
     "end_time": "2022-01-03T16:49:51.350019Z",
     "start_time": "2022-01-03T16:49:51.345997Z"
    }
   },
   "outputs": [],
   "source": [
    "data = df.iloc[:,2].values\n",
    "data"
   ]
  },
  {
   "cell_type": "code",
   "execution_count": null,
   "id": "0785b21b",
   "metadata": {
    "ExecuteTime": {
     "end_time": "2022-01-03T16:54:37.902765Z",
     "start_time": "2022-01-03T16:54:37.899548Z"
    }
   },
   "outputs": [],
   "source": [
    "print(\"First 5 numbers in this ndarray:\",data[0:5] )#data[1])"
   ]
  },
  {
   "cell_type": "code",
   "execution_count": null,
   "id": "a4fec596",
   "metadata": {
    "ExecuteTime": {
     "end_time": "2022-01-03T17:00:02.048377Z",
     "start_time": "2022-01-03T17:00:02.043577Z"
    }
   },
   "outputs": [],
   "source": [
    "#we need a function that compares the key to the value of the vectors in each column \n",
    "patient_ID = df_1['Patient_ID'].values\n",
    "drug_admin_date = df_1['Drug_admin_date'].values\n",
    "patient_ID"
   ]
  },
  {
   "cell_type": "code",
   "execution_count": null,
   "id": "5a5c4b81",
   "metadata": {
    "ExecuteTime": {
     "end_time": "2022-01-03T17:34:42.275889Z",
     "start_time": "2022-01-03T17:34:42.272417Z"
    }
   },
   "outputs": [],
   "source": [
    "#df_1[Patient_ID]\n",
    "#create a function which counts how many times an ID appears in the array, \n",
    "#then arranges the  patient ID in sequential order, smallest to largest without repetitions\n",
    "patient_ID[0]\n",
    "\n",
    "#for x, ID in np.ndenumerate(patient_ID):\n",
    "    #print(x, ID)\n",
    "    \n"
   ]
  },
  {
   "cell_type": "code",
   "execution_count": null,
   "id": "8fe3438c",
   "metadata": {
    "ExecuteTime": {
     "end_time": "2022-01-03T16:58:53.544177Z",
     "start_time": "2022-01-03T16:58:53.540302Z"
    }
   },
   "outputs": [],
   "source": [
    "#test out the patient ID array \n",
    "patient_ID[0]"
   ]
  },
  {
   "cell_type": "code",
   "execution_count": null,
   "id": "819f88b2",
   "metadata": {
    "ExecuteTime": {
     "end_time": "2022-01-03T17:00:26.975274Z",
     "start_time": "2022-01-03T17:00:26.971952Z"
    }
   },
   "outputs": [],
   "source": [
    "#test out drug admin date data\n",
    "drug_admin_date[0]"
   ]
  },
  {
   "cell_type": "code",
   "execution_count": null,
   "id": "ac2628cf",
   "metadata": {
    "ExecuteTime": {
     "end_time": "2022-01-03T17:21:28.619954Z",
     "start_time": "2022-01-03T17:21:28.616196Z"
    }
   },
   "outputs": [],
   "source": [
    "#variable to store the treatment length\n",
    "treatment_length = np.datetime64(drug_admin_date[0], 'W') - np.datetime64(drug_admin_date[1], 'W') \n",
    "print(\"Patient\",Patient_ID[0], \"had treatment for\",treatment_length, \"Weeks\")\n"
   ]
  },
  {
   "cell_type": "code",
   "execution_count": null,
   "id": "6e9ffaec",
   "metadata": {
    "ExecuteTime": {
     "end_time": "2022-01-03T16:34:31.196670Z",
     "start_time": "2022-01-03T16:34:31.193521Z"
    }
   },
   "outputs": [],
   "source": [
    "print(\"This is a\",type(data),\"\\nShowing a 1D array:\", data, \"\\nThere are\",len(data),\"examples in this dataset\")"
   ]
  },
  {
   "cell_type": "code",
   "execution_count": null,
   "id": "9f815a2a",
   "metadata": {
    "ExecuteTime": {
     "end_time": "2021-12-29T03:09:55.104233Z",
     "start_time": "2021-12-29T03:09:55.101537Z"
    }
   },
   "outputs": [],
   "source": [
    "data = df.iloc[:,1].values"
   ]
  },
  {
   "cell_type": "code",
   "execution_count": null,
   "id": "45169310",
   "metadata": {
    "ExecuteTime": {
     "end_time": "2021-12-29T03:10:00.971596Z",
     "start_time": "2021-12-29T03:10:00.963508Z"
    }
   },
   "outputs": [],
   "source": [
    "print(type(data), data)"
   ]
  },
  {
   "cell_type": "code",
   "execution_count": null,
   "id": "be7aa8cc",
   "metadata": {
    "ExecuteTime": {
     "end_time": "2021-12-29T03:10:50.903668Z",
     "start_time": "2021-12-29T03:10:50.901337Z"
    }
   },
   "outputs": [],
   "source": [
    "data = df.iloc[:,3].values"
   ]
  },
  {
   "cell_type": "code",
   "execution_count": null,
   "id": "c7af4594",
   "metadata": {
    "ExecuteTime": {
     "end_time": "2021-12-29T03:10:55.955300Z",
     "start_time": "2021-12-29T03:10:55.951667Z"
    }
   },
   "outputs": [],
   "source": [
    "print(type(data), data)"
   ]
  },
  {
   "cell_type": "code",
   "execution_count": null,
   "id": "51a2f623",
   "metadata": {
    "ExecuteTime": {
     "end_time": "2021-12-29T03:11:24.294483Z",
     "start_time": "2021-12-29T03:11:24.291034Z"
    }
   },
   "outputs": [],
   "source": [
    "data = df.iloc[:,4].values\n",
    "print(type(data), data)"
   ]
  },
  {
   "cell_type": "code",
   "execution_count": null,
   "id": "e27793c2",
   "metadata": {
    "ExecuteTime": {
     "end_time": "2021-12-30T05:27:44.804952Z",
     "start_time": "2021-12-30T05:27:44.802964Z"
    }
   },
   "outputs": [],
   "source": [
    "#print(df.describe)"
   ]
  },
  {
   "cell_type": "code",
   "execution_count": null,
   "id": "6e602ccf",
   "metadata": {
    "ExecuteTime": {
     "end_time": "2021-12-30T05:29:42.514838Z",
     "start_time": "2021-12-30T05:29:42.497849Z"
    }
   },
   "outputs": [],
   "source": [
    "df.dropna()"
   ]
  },
  {
   "cell_type": "code",
   "execution_count": null,
   "id": "1b2f67fc",
   "metadata": {
    "ExecuteTime": {
     "end_time": "2021-12-30T05:26:45.897317Z",
     "start_time": "2021-12-30T05:26:45.884278Z"
    }
   },
   "outputs": [],
   "source": [
    "print(df.describe)"
   ]
  },
  {
   "cell_type": "code",
   "execution_count": null,
   "id": "e8447ea3",
   "metadata": {
    "ExecuteTime": {
     "end_time": "2022-01-03T03:09:34.080631Z",
     "start_time": "2022-01-03T03:09:34.077100Z"
    }
   },
   "outputs": [],
   "source": [
    "print(df['Patient_ID'], df['drug_390_admin_flag'], df['ER_positive'])\n",
    "#df"
   ]
  },
  {
   "cell_type": "code",
   "execution_count": null,
   "id": "3e71baa4",
   "metadata": {
    "ExecuteTime": {
     "end_time": "2021-12-29T23:18:09.981265Z",
     "start_time": "2021-12-29T23:18:09.978576Z"
    }
   },
   "outputs": [],
   "source": [
    "old=np.array([0,1,1,1,0,1,1,0,0,1,0])"
   ]
  },
  {
   "cell_type": "code",
   "execution_count": null,
   "id": "e2028b82",
   "metadata": {
    "ExecuteTime": {
     "end_time": "2021-12-29T23:30:04.681437Z",
     "start_time": "2021-12-29T23:30:04.678569Z"
    }
   },
   "outputs": [],
   "source": [
    "old_mean=(sum(old)/len(old))#get the average of the old data "
   ]
  },
  {
   "cell_type": "code",
   "execution_count": null,
   "id": "76d1c9fe",
   "metadata": {
    "ExecuteTime": {
     "end_time": "2021-12-29T23:29:09.780809Z",
     "start_time": "2021-12-29T23:29:09.777990Z"
    }
   },
   "outputs": [],
   "source": [
    "print(old_mean)"
   ]
  },
  {
   "cell_type": "code",
   "execution_count": null,
   "id": "04809ca6",
   "metadata": {
    "ExecuteTime": {
     "end_time": "2021-12-29T23:20:18.535239Z",
     "start_time": "2021-12-29T23:20:18.528074Z"
    }
   },
   "outputs": [],
   "source": []
  },
  {
   "cell_type": "code",
   "execution_count": null,
   "id": "f2416197",
   "metadata": {},
   "outputs": [],
   "source": []
  }
 ],
 "metadata": {
  "kernelspec": {
   "display_name": "Python 3 (ipykernel)",
   "language": "python",
   "name": "python3"
  },
  "language_info": {
   "codemirror_mode": {
    "name": "ipython",
    "version": 3
   },
   "file_extension": ".py",
   "mimetype": "text/x-python",
   "name": "python",
   "nbconvert_exporter": "python",
   "pygments_lexer": "ipython3",
   "version": "3.9.13"
  },
  "toc": {
   "base_numbering": 1,
   "nav_menu": {},
   "number_sections": true,
   "sideBar": true,
   "skip_h1_title": false,
   "title_cell": "Table of Contents",
   "title_sidebar": "Contents",
   "toc_cell": false,
   "toc_position": {},
   "toc_section_display": true,
   "toc_window_display": false
  },
  "varInspector": {
   "cols": {
    "lenName": 16,
    "lenType": 16,
    "lenVar": 40
   },
   "kernels_config": {
    "python": {
     "delete_cmd_postfix": "",
     "delete_cmd_prefix": "del ",
     "library": "var_list.py",
     "varRefreshCmd": "print(var_dic_list())"
    },
    "r": {
     "delete_cmd_postfix": ") ",
     "delete_cmd_prefix": "rm(",
     "library": "var_list.r",
     "varRefreshCmd": "cat(var_dic_list()) "
    }
   },
   "position": {
    "height": "590px",
    "left": "2034px",
    "right": "20px",
    "top": "116px",
    "width": "350px"
   },
   "types_to_exclude": [
    "module",
    "function",
    "builtin_function_or_method",
    "instance",
    "_Feature"
   ],
   "window_display": true
  }
 },
 "nbformat": 4,
 "nbformat_minor": 5
}
